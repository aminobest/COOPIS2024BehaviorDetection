{
 "cells": [
  {
   "cell_type": "code",
   "execution_count": null,
   "id": "c83ba1f2",
   "metadata": {},
   "outputs": [],
   "source": [
    "import pandas as pd\n",
    "import re\n",
    "import numpy as np\n",
    "import scipy.stats as stats\n",
    "from scipy.stats import wilcoxon\n",
    "from constants import diffMappingToScore, questions, labelsToElements\n",
    "from functools import reduce\n",
    "from utils import fixationProportionThresholdAnalysis, phaseDetection, dwellRegressionOnRelevantElements, periodCalculation, scanPathPrecision, averageFixationDuration, averageSaccadeAmplitudeForPhases, addQuestionInfo"
   ]
  },
  {
   "cell_type": "code",
   "execution_count": null,
   "id": "81e8a4f3",
   "metadata": {
    "scrolled": true
   },
   "outputs": [],
   "source": [
    "#load data\n",
    "data = pd.read_csv(\"data/eventsDataWithAois.csv\")"
   ]
  },
  {
   "cell_type": "code",
   "execution_count": null,
   "id": "6739e74c",
   "metadata": {},
   "outputs": [],
   "source": [
    "#enrich questions with relevant elements\n",
    "questions = [ {**question,**{'Relevant elements labels': re.findall('\"(.+?)\"', question[\"question\"])}}  for question in questions ]\n",
    "\n",
    "for question in questions:\n",
    "    for idx, label in enumerate(question[\"Relevant elements labels\"]):\n",
    "        if re.compile(\"\\[(.+?)\\]\").match(label):\n",
    "            question[\"Relevant elements labels\"][idx-1] = f'{question[\"Relevant elements labels\"][idx-1]} {label}'\n",
    "            question[\"Relevant elements labels\"].remove(label)\n",
    "            \n",
    "questions = [ {**question,**{'Relevant elements count': len(question[\"Relevant elements labels\"])}}  for question in questions ]"
   ]
  },
  {
   "cell_type": "code",
   "execution_count": null,
   "id": "dd30bbc0",
   "metadata": {},
   "outputs": [],
   "source": [
    "#get activities labels\n",
    "questions = [ {**question,**{'Relevant elements names':  [ labelsToElements[activity] for  activity in question[\"Relevant elements labels\"] ]   }}  for question in questions ]"
   ]
  },
  {
   "cell_type": "code",
   "execution_count": null,
   "id": "94be5198",
   "metadata": {},
   "outputs": [],
   "source": [
    "#################\n",
    "#\n",
    "# Phase detection\n",
    "#\n",
    "#################"
   ]
  },
  {
   "cell_type": "code",
   "execution_count": null,
   "id": "774358b7",
   "metadata": {},
   "outputs": [],
   "source": [
    "#drop na\n",
    "fixationData = data.loc[(~data['FixID'].isna()) & (~data['currentQuestion'].isna())].copy(deep=True)\n",
    "#add question info\n",
    "fixationData = addQuestionInfo(fixationData,questions)\n",
    "\n",
    "\"\"\"Q13 (local) and Q25 (global) need to be removed for SP11 due to low data quality\"\"\"\n",
    "fixationData = fixationData.drop(fixationData[(fixationData['participant'] == 'SP11-no') & (fixationData['Type3'] == 'Exclusiveness')].index)"
   ]
  },
  {
   "cell_type": "code",
   "execution_count": null,
   "id": "8a6e2eca",
   "metadata": {},
   "outputs": [],
   "source": [
    "#detect phases (phase 1: pre/post to the point when all relevant activities identified)\n",
    "phDectFix = phaseDetection(fixationData,questions)"
   ]
  },
  {
   "cell_type": "code",
   "execution_count": null,
   "id": "31d9f349",
   "metadata": {},
   "outputs": [],
   "source": [
    "#add Timestamp_formatted column\n",
    "phDectFix[\"timestamp_formatted\"] = pd.to_datetime(phDectFix['Fixation Start'], unit='ms')"
   ]
  },
  {
   "cell_type": "code",
   "execution_count": null,
   "id": "b6d02169",
   "metadata": {},
   "outputs": [],
   "source": [
    "#prepare datasets"
   ]
  },
  {
   "cell_type": "code",
   "execution_count": null,
   "id": "ceba02a4",
   "metadata": {},
   "outputs": [],
   "source": [
    "#######################\n",
    "#\n",
    "# Average fixation duration\n",
    "#\n",
    "#######################"
   ]
  },
  {
   "cell_type": "code",
   "execution_count": null,
   "id": "4a7ff154",
   "metadata": {},
   "outputs": [],
   "source": [
    "avFDPT = averageFixationDuration(phDectFix,['Type1','Type2','Type3','Phase'])\n",
    "#filter out those with N/A\n",
    "avFDPT = avFDPT.loc[avFDPT[\"Phase\"]!=\"N/A\"].copy(deep=True)\n",
    "#Keep only control-flow\n",
    "avFDPT = avFDPT.loc[avFDPT[\"Type2\"]==\"Control-flow\"].copy(deep=True)\n",
    "#sorting (extra)\n",
    "avFDPT = avFDPT.sort_values(by=['participant','currentQuestion','timestamp'])"
   ]
  },
  {
   "cell_type": "code",
   "execution_count": null,
   "id": "87db4d31",
   "metadata": {},
   "outputs": [],
   "source": [
    "####################\n",
    "#\n",
    "# Average Saccade amplitude\n",
    "#\n",
    "####################"
   ]
  },
  {
   "cell_type": "code",
   "execution_count": null,
   "id": "2d05c5cc",
   "metadata": {},
   "outputs": [],
   "source": [
    "#filter out those with N/A\n",
    "phases = phDectFix.loc[phDectFix[\"Phase\"]!=\"N/A\"].copy(deep=True)\n",
    "#Keep only control-flow\n",
    "phases = phases.loc[phases[\"Type2\"]==\"Control-flow\"].copy(deep=True)\n",
    "#calculate avSacAmplitude\n",
    "avSacAmplitude = averageSaccadeAmplitudeForPhases(phases,data,['currentQuestion','participant','Type1','Type2','Type3','Phase'])\n",
    "#sorting (extra)\n",
    "avSacAmplitude = avSacAmplitude.sort_values(by=['participant','currentQuestion','timestamp'])"
   ]
  },
  {
   "cell_type": "code",
   "execution_count": null,
   "id": "fbfa5906",
   "metadata": {},
   "outputs": [],
   "source": [
    "####################\n",
    "#\n",
    "# Scan-path precision\n",
    "#\n",
    "####################"
   ]
  },
  {
   "cell_type": "code",
   "execution_count": null,
   "id": "7c7d17fb",
   "metadata": {},
   "outputs": [],
   "source": [
    "scanPathPrecisionData = scanPathPrecision(phDectFix,['Type1','Type2','Type3','Phase'])\n",
    "#filter out those with N/A\n",
    "scanPathPrecisionData = scanPathPrecisionData.loc[scanPathPrecisionData[\"Phase\"]!=\"N/A\"].copy(deep=True)\n",
    "#Keep only control-flow\n",
    "scanPathPrecisionData = scanPathPrecisionData.loc[scanPathPrecisionData[\"Type2\"]==\"Control-flow\"].copy(deep=True)\n",
    "#sorting (extra)\n",
    "scanPathPrecisionData = scanPathPrecisionData.sort_values(by=['participant','currentQuestion','timestamp'])"
   ]
  },
  {
   "cell_type": "code",
   "execution_count": null,
   "id": "5031555c",
   "metadata": {},
   "outputs": [],
   "source": [
    "#######################\n",
    "#\n",
    "# Fixation threshold proportion analysis\n",
    "#\n",
    "#######################"
   ]
  },
  {
   "cell_type": "code",
   "execution_count": null,
   "id": "8a8465ee",
   "metadata": {},
   "outputs": [],
   "source": [
    "fxThresholdsData = fixationProportionThresholdAnalysis(phDectFix,['Type1','Type2','Type3','Phase'])\n",
    "#filter out those with N/A\n",
    "fxThresholdsData = fxThresholdsData.loc[fxThresholdsData[\"Phase\"]!=\"N/A\"].copy(deep=True)\n",
    "#Keep only control-flow\n",
    "fxThresholdsData = fxThresholdsData.loc[fxThresholdsData[\"Type2\"]==\"Control-flow\"].copy(deep=True)\n",
    "#sorting (extra)\n",
    "fxThresholdsData = fxThresholdsData.sort_values(by=['participant','currentQuestion','timestamp'])"
   ]
  },
  {
   "cell_type": "code",
   "execution_count": null,
   "id": "1a5e434e",
   "metadata": {},
   "outputs": [],
   "source": [
    "#######################\n",
    "#\n",
    "# All measures in one dataframe\n",
    "#\n",
    "######################"
   ]
  },
  {
   "cell_type": "code",
   "execution_count": null,
   "id": "8d6672e7",
   "metadata": {},
   "outputs": [],
   "source": [
    "#merge all dataframes (computed previously)\n",
    "dfs = [avFDPT,avSacAmplitude,scanPathPrecisionData,fxThresholdsData]\n",
    "all_measures = reduce(lambda left,right: pd.merge(left,right,on=['participant', 'currentQuestion', 'Type1', 'Type2', 'Type3', 'Phase','timestamp'], how='inner'), dfs)\n",
    "all_measures.columns"
   ]
  },
  {
   "cell_type": "code",
   "execution_count": null,
   "id": "83b2f59f",
   "metadata": {},
   "outputs": [],
   "source": [
    "#all_measures.to_csv(\"all_measures.csv\")\n",
    "all_measures"
   ]
  },
  {
   "cell_type": "code",
   "execution_count": null,
   "id": "34dc4e29",
   "metadata": {},
   "outputs": [],
   "source": [
    "#######################\n",
    "#\n",
    "# Descriptives and Inferentials\n",
    "#\n",
    "######################"
   ]
  },
  {
   "cell_type": "code",
   "execution_count": null,
   "id": "7090704f",
   "metadata": {},
   "outputs": [],
   "source": [
    "allstats = all_measures.groupby(['Phase']).agg({'Average_Fixation_Duration':'mean',\n",
    "'avSaccadeAmplitude':'mean',\n",
    "'scan_path_precision':'mean', \n",
    "'shortFixationsProp':'mean', \n",
    "'longFixationsProp':'mean'},as_index=False)"
   ]
  },
  {
   "cell_type": "code",
   "execution_count": null,
   "id": "e0acc982",
   "metadata": {},
   "outputs": [],
   "source": [
    "allstats.round(2)"
   ]
  },
  {
   "cell_type": "code",
   "execution_count": null,
   "id": "fb45ee25",
   "metadata": {},
   "outputs": [],
   "source": [
    "measures = ['Average_Fixation_Duration', 'avSaccadeAmplitude',\n",
    "       'scan_path_precision', 'shortFixationsProp', \n",
    "       'longFixationsProp']\n",
    "\n",
    "# new dict with measure values\n",
    "values = []\n",
    "\n",
    "\n",
    "for measure in measures:\n",
    "    print(f'--{measure}')\n",
    "    \n",
    "    #get one measure per participant/phase\n",
    "    all_measures_part = all_measures.groupby(['participant','Phase'], as_index=False).agg({measure:\"mean\"})\n",
    "    \n",
    "\n",
    "    measure_a = all_measures_part.loc[(all_measures_part[\"Phase\"]=='inference')][['participant',measure]]\n",
    "    measure_b = all_measures_part.loc[(all_measures_part[\"Phase\"]=='search')][['participant',measure]]\n",
    "    print(len(measure_a), len(measure_b))\n",
    "    measure_merge = measure_a.merge(measure_b, on=['participant'], suffixes=('_a', '_b'), how='inner')\n",
    "    print(len(measure_merge))\n",
    "    pvalue = stats.wilcoxon(measure_merge[f'{measure}_a'], measure_merge[f'{measure}_b']).pvalue\n",
    "    print(pvalue)\n",
    "    values.append(pvalue)\n",
    "    \n",
    "\n",
    "# append the new row to the dataframe\n",
    "new_row = pd.Series(values, index=allstats.columns, name='p-values')\n",
    "\n",
    "# add the new row to the dataframe using loc\n",
    "allstats_withInf = allstats.append(new_row)"
   ]
  },
  {
   "cell_type": "code",
   "execution_count": null,
   "id": "de4b0ee9",
   "metadata": {},
   "outputs": [],
   "source": [
    "allstats_withInf"
   ]
  },
  {
   "cell_type": "code",
   "execution_count": null,
   "id": "bee7874a",
   "metadata": {},
   "outputs": [],
   "source": [
    "allstats_withInf.applymap(lambda x: '<0.001' if x < 0.001 else x).round(3)\n"
   ]
  },
  {
   "cell_type": "code",
   "execution_count": null,
   "id": "24a99770",
   "metadata": {},
   "outputs": [],
   "source": []
  },
  {
   "cell_type": "code",
   "execution_count": null,
   "id": "ab6eb595",
   "metadata": {},
   "outputs": [],
   "source": []
  },
  {
   "cell_type": "code",
   "execution_count": null,
   "id": "02e356c5",
   "metadata": {},
   "outputs": [],
   "source": []
  }
 ],
 "metadata": {
  "kernelspec": {
   "display_name": "Python 3",
   "language": "python",
   "name": "python3"
  },
  "language_info": {
   "codemirror_mode": {
    "name": "ipython",
    "version": 3
   },
   "file_extension": ".py",
   "mimetype": "text/x-python",
   "name": "python",
   "nbconvert_exporter": "python",
   "pygments_lexer": "ipython3",
   "version": "3.9.5"
  }
 },
 "nbformat": 4,
 "nbformat_minor": 5
}
